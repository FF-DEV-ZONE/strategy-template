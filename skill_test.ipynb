{
 "cells": [
  {
   "cell_type": "markdown",
   "id": "aff32110-3d3c-4fd0-afa6-e6770dd92e00",
   "metadata": {},
   "source": [
    "# Skilll Test\n",
    "\n",
    "## **要求描述**\n",
    "## 时间限制：测试时间为2小时30分，请在确保在限定时间内完成。逾期提交视为无效，无法再进行评分。\n",
    "## 测试方式：线上或者线下\n",
    "## 测试内容：基于Backtrader以及ffquant的指标Trend、TurningPoint实现一个回测策略，以下已给出一个框架代码。\n",
    "## 重点考察技能：交易策略开发\n",
    "## 注意事项：合理的仓位管理和资金管理\n",
    "## 使用的指标：必须用到Trend和TurningPoint指标，指标的用法可以参考《Beginner's Guide》，可以加入其他的指标。\n",
    "## 评分标准： 代码的效率与准确性，问题解决的完整性和逻辑思维，可读性与注释\n",
    "## 技术支持： 如在测试过程中遇到任何技术问题，请联络Whatsapp群里的管理员，或者线下找Jonathan\n"
   ]
  },
  {
   "cell_type": "code",
   "execution_count": null,
   "id": "35b533aa-e625-40c3-839f-d6e487258f2a",
   "metadata": {},
   "outputs": [],
   "source": [
    "import backtrader as bt\n",
    "from ffquant.feeds.MyFeed import MyFeed\n",
    "from ffquant.indicators.Trend import Trend\n",
    "from ffquant.indicators.TurningPoint import TurningPoint\n",
    "from ffquant.plot.perf import run_and_show_performance\n",
    "import pytz\n",
    "\n",
    "class SimpleStrategy(bt.Strategy):\n",
    "    def __init__(self):\n",
    "        super(SimpleStrategy, self).__init__()\n",
    "        self.trend = Trend(symbol=\"CAPITALCOM:HK50\")\n",
    "        self.tp = TurningPoint(symbol=\"CAPITALCOM:HK50\")\n",
    "\n",
    "    def next(self):\n",
    "        dt = self.data.datetime.datetime(0).replace(tzinfo=pytz.utc).astimezone().strftime(\"%Y-%m-%d %H:%M:%S\")\n",
    "        print(f\"dt: {dt}, close[0]: {self.data.close[0]}, trend[0]: {self.trend[0]}, tp[0]: {self.tp[0]}\")\n",
    "        \n",
    "        # 请在此实现你的策略逻辑\n",
    "\n",
    "\n",
    "if __name__ == \"__main__\":\n",
    "    cerebro = bt.Cerebro()\n",
    "    my_data = MyFeed(symbol=\"CAPITALCOM:HK50\", start_time=\"2024-10-07 09:30:00\", end_time=\"2024-10-07 16:00:00\")\n",
    "    cerebro.adddata(my_data)\n",
    "    cerebro.addstrategy(SimpleStrategy)\n",
    "    run_and_show_performance(cerebro)"
   ]
  },
  {
   "cell_type": "code",
   "execution_count": null,
   "id": "781ad214-89da-440a-89c0-d72154f2ba4d",
   "metadata": {},
   "outputs": [],
   "source": []
  }
 ],
 "metadata": {
  "kernelspec": {
   "display_name": "Python 3 (ipykernel)",
   "language": "python",
   "name": "python3"
  },
  "language_info": {
   "codemirror_mode": {
    "name": "ipython",
    "version": 3
   },
   "file_extension": ".py",
   "mimetype": "text/x-python",
   "name": "python",
   "nbconvert_exporter": "python",
   "pygments_lexer": "ipython3",
   "version": "3.10.10"
  }
 },
 "nbformat": 4,
 "nbformat_minor": 5
}
